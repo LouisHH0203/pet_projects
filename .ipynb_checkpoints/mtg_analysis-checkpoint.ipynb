{
 "cells": [
  {
   "cell_type": "code",
   "execution_count": null,
   "id": "cc2e2053",
   "metadata": {},
   "outputs": [],
   "source": [
    "# import analytics tool\n",
    "import numpy as np\n",
    "import pandas as pd\n",
    "import matplotlib.pyplot as plt\n",
    "import seaborn as sns"
   ]
  },
  {
   "cell_type": "code",
   "execution_count": null,
   "id": "aa670f19",
   "metadata": {},
   "outputs": [],
   "source": [
    "# import ML tools\n",
    "from sklearn.model_selection import cross_val_score\n",
    "from sklearn.model_selection import learning_curve\n",
    "from sklearn.linear_model import LinearRegression\n",
    "from sklearn.linear_model import LogisticRegression"
   ]
  },
  {
   "cell_type": "code",
   "execution_count": null,
   "id": "207a149f",
   "metadata": {},
   "outputs": [],
   "source": [
    "# import card data\n",
    "cards_df = pd.read_csv('cards.csv')\n",
    "cards_df.head(5)"
   ]
  },
  {
   "cell_type": "code",
   "execution_count": null,
   "id": "1737693a",
   "metadata": {},
   "outputs": [],
   "source": [
    "# list all columns\n",
    "cards_df.columns.to_list()"
   ]
  },
  {
   "cell_type": "code",
   "execution_count": null,
   "id": "e6ec59d0",
   "metadata": {},
   "outputs": [],
   "source": [
    "# Trim down the columns \n",
    "cards_df = cards_df[['name', 'types', 'colors','power',\n",
    "          'toughness', 'manaCost','manaValue', 'rarity',  'setCode', 'uuid', 'isReprint']]"
   ]
  },
  {
   "cell_type": "code",
   "execution_count": null,
   "id": "2c7fb03c",
   "metadata": {},
   "outputs": [],
   "source": [
    "# import price data\n",
    "price_df = pd.read_csv('cardPrices.csv')\n",
    "price_df.head(5)"
   ]
  },
  {
   "cell_type": "code",
   "execution_count": null,
   "id": "81444143",
   "metadata": {},
   "outputs": [],
   "source": [
    "price_df.columns.to_list()"
   ]
  },
  {
   "cell_type": "code",
   "execution_count": null,
   "id": "96bf23b6",
   "metadata": {
    "scrolled": true
   },
   "outputs": [],
   "source": [
    "price_df[['price', 'priceProvider', 'uuid']]"
   ]
  },
  {
   "cell_type": "code",
   "execution_count": null,
   "id": "7e404e0f",
   "metadata": {},
   "outputs": [],
   "source": [
    "# Import set data\n",
    "set_df = pd.read_csv('sets.csv')\n",
    "set_df.head(5)"
   ]
  },
  {
   "cell_type": "code",
   "execution_count": null,
   "id": "731e8123",
   "metadata": {},
   "outputs": [],
   "source": [
    "# List all columns\n",
    "set_df.columns.to_list()"
   ]
  },
  {
   "cell_type": "code",
   "execution_count": null,
   "id": "1f0164e4",
   "metadata": {},
   "outputs": [],
   "source": [
    "set_df[['code', 'releaseDate']]"
   ]
  },
  {
   "cell_type": "markdown",
   "id": "96a134ab",
   "metadata": {},
   "source": [
    "## Clean Data"
   ]
  },
  {
   "cell_type": "code",
   "execution_count": null,
   "id": "d80cb244",
   "metadata": {},
   "outputs": [],
   "source": [
    "# List set codes to find the standard legal cards I want to analyze\n",
    "cards_df['setCode'].unique().tolist()"
   ]
  },
  {
   "cell_type": "code",
   "execution_count": null,
   "id": "23018c39",
   "metadata": {
    "scrolled": true
   },
   "outputs": [],
   "source": [
    "# Dataframe that shows most of all standard legal cards\n",
    "standard_legal = ['MID','VOW','NEO','SNC', 'DMU', 'BRO','MOM','MAT','WOE']\n",
    "standard_cards_df = cards_df[cards_df['setCode'].isin(standard_legal)]\n",
    "standard_cards_df.head(5)"
   ]
  },
  {
   "cell_type": "code",
   "execution_count": null,
   "id": "79e25644",
   "metadata": {},
   "outputs": [],
   "source": [
    "# Cards in MID with duplicates dropped via names\n",
    "mom_cards = standard_cards_df[standard_cards_df['setCode'] == 'MOM']\n",
    "mom_cards = mom_cards.drop_duplicates(subset='name', keep='first')\n",
    "mom_cards.head(5)"
   ]
  },
  {
   "cell_type": "markdown",
   "id": "98637508",
   "metadata": {},
   "source": [
    "## Dataframe Including All Standard Legal Cards"
   ]
  },
  {
   "cell_type": "code",
   "execution_count": null,
   "id": "4b08edf3",
   "metadata": {},
   "outputs": [],
   "source": [
    "# Using a for loop to drop all duplicates in all standard legal sets\n",
    "\n",
    "# Legal Sets\n",
    "standard_legal = ['MID', 'VOW', 'NEO', 'SNC', 'DMU', 'BRO', 'MOM', 'MAT', 'WOE']\n",
    "\n",
    "# Empty Data Frame\n",
    "standard_cards_df = pd.DataFrame()\n",
    "\n",
    "#For lopp to ad all the data into empty data frame\n",
    "for set_code in standard_legal:\n",
    "    set_cards = cards_df[cards_df['setCode'] == set_code]\n",
    "    set_cards_unique = set_cards.drop_duplicates(subset='name', keep='first')\n",
    "    standard_cards_df = pd.concat([standard_cards_df, set_cards_unique], ignore_index=True)\n",
    "\n",
    "standard_cards_df.head(5)"
   ]
  },
  {
   "cell_type": "code",
   "execution_count": null,
   "id": "29885018",
   "metadata": {
    "scrolled": true
   },
   "outputs": [],
   "source": [
    "# Check for cards that are not legal in standard. Aftermath has mutliverse legends which are not standard legal\n",
    "mat_cards = standard_cards_df.loc[standard_cards_df['setCode'] == 'MAT', 'name'].unique()\n",
    "mat_cards = pd.Series(mat_cards)\n",
    "print(f'Number of unique card in MAT is {mat_cards.count()}.')"
   ]
  },
  {
   "cell_type": "markdown",
   "id": "ac62a2c8",
   "metadata": {},
   "source": [
    "#### Create a Banned list to be removed from the data set"
   ]
  },
  {
   "cell_type": "code",
   "execution_count": null,
   "id": "fbf0b0a4",
   "metadata": {
    "scrolled": true
   },
   "outputs": [],
   "source": [
    "# Remove all banned cards from\n",
    "standard_ban_list = ['The Meathook Massacre',\n",
    "'Fable of the Mirror-Breaker//Reflection of Kiki-Jiki',\n",
    "'Invoke Despair',\n",
    "'Reckoner Bankbuster']\n",
    "banned_cards = standard_cards_df[standard_cards_df['name'].isin(standard_ban_list)]\n",
    "banned_cards"
   ]
  },
  {
   "cell_type": "markdown",
   "id": "5be5c386",
   "metadata": {},
   "source": [
    "This did not give me all the cards I wanted to ban Fable of the Mirror-Breaker//Reflection of Kiki-Jiki was missing from the list"
   ]
  },
  {
   "cell_type": "code",
   "execution_count": null,
   "id": "c569b3b0",
   "metadata": {},
   "outputs": [],
   "source": [
    "# Find Fable of the Mirror-Breaker\n",
    "fable_card = standard_cards_df[standard_cards_df['name'].str.contains('Fable')]\n",
    "fable_card"
   ]
  },
  {
   "cell_type": "code",
   "execution_count": null,
   "id": "e8b2bba3",
   "metadata": {
    "scrolled": true
   },
   "outputs": [],
   "source": [
    "# Final df that shows all banned cards\n",
    "banned_cards = pd.concat([banned_cards, fable_card], ignore_index=True).drop_duplicates()\n",
    "banned_cards"
   ]
  },
  {
   "cell_type": "code",
   "execution_count": null,
   "id": "0cadf76f",
   "metadata": {},
   "outputs": [],
   "source": [
    "standard_legal_df = pd.concat([standard_cards_df, banned_cards]).drop_duplicates(keep=False)\n",
    "standard_legal_df.head(5)"
   ]
  },
  {
   "cell_type": "code",
   "execution_count": null,
   "id": "b365e65c",
   "metadata": {},
   "outputs": [],
   "source": [
    "# Count of Rarities\n",
    "custom_palette = {\n",
    "    'common': '#F0F0F0',\n",
    "    'uncommon': 'silver',\n",
    "    'mythic': 'orange',\n",
    "    'rare': 'gold'\n",
    "}\n",
    "\n",
    "rarity_counts =standard_legal_df['rarity'].value_counts()\n",
    "\n",
    "sns.barplot(x=rarity_counts.index, y=rarity_counts.values, palette=custom_palette)\n",
    "plt.ylabel('Count')\n",
    "plt.title('Distribution of Rarity in Standard Legal Cards')\n",
    "plt.show()"
   ]
  },
  {
   "cell_type": "code",
   "execution_count": null,
   "id": "800d25cb",
   "metadata": {},
   "outputs": [],
   "source": [
    "# Count of card types\n",
    "\n",
    "type_counts = standard_legal_df['types'].value_counts()\n",
    "\n",
    "sns.barplot(x=type_counts.index, y=type_counts.values, pallette)\n",
    "plt.ylabel('Count')\n",
    "plt.title('Distribution of card types in Standard Legal Cards')\n",
    "plt.xticks(rotation=45, ha='right')\n",
    "plt.show()"
   ]
  },
  {
   "cell_type": "code",
   "execution_count": null,
   "id": "656531eb",
   "metadata": {},
   "outputs": [],
   "source": [
    "# Distirbution of Colors, nan color?\n",
    "standard_legal_df['colors'].unique()"
   ]
  },
  {
   "cell_type": "code",
   "execution_count": null,
   "id": "da5c9ee0",
   "metadata": {},
   "outputs": [],
   "source": [
    "# Nan color seems to be colorless cards and lands\n",
    "null_color_df = standard_legal_df[standard_legal_df['colors'].isnull()]\n",
    "null_color_df.head(5)"
   ]
  },
  {
   "cell_type": "code",
   "execution_count": null,
   "id": "0c7cb108",
   "metadata": {},
   "outputs": [],
   "source": [
    "lands_df = standard_legal_df[standard_legal_df['types']=='Land'].copy()\n",
    "lands_df.head(5)"
   ]
  },
  {
   "cell_type": "code",
   "execution_count": null,
   "id": "3342919d",
   "metadata": {},
   "outputs": [],
   "source": [
    "# Create a data frame for all colorless cards which are not lands\n",
    "colorless_cards_df = pd.concat([null_color_df, lands_df]).drop_duplicates(keep=False)\n",
    "colorless_cards_df.head(5)"
   ]
  },
  {
   "cell_type": "code",
   "execution_count": null,
   "id": "5b81e7aa",
   "metadata": {},
   "outputs": [],
   "source": [
    "# Give a color code to colorless cards\n",
    "colorless_cards_df.loc[:, 'colors'] = 'C'\n",
    "colorless_cards_df.head(5)"
   ]
  },
  {
   "cell_type": "code",
   "execution_count": null,
   "id": "9459dc01",
   "metadata": {
    "scrolled": true
   },
   "outputs": [],
   "source": [
    "# Give lands a code for lands\n",
    "lands_df.loc[:, 'colors'] = 'L'\n",
    "lands_df.head(5)"
   ]
  }
 ],
 "metadata": {
  "kernelspec": {
   "display_name": "Python 3 (ipykernel)",
   "language": "python",
   "name": "python3"
  },
  "language_info": {
   "codemirror_mode": {
    "name": "ipython",
    "version": 3
   },
   "file_extension": ".py",
   "mimetype": "text/x-python",
   "name": "python",
   "nbconvert_exporter": "python",
   "pygments_lexer": "ipython3",
   "version": "3.10.6"
  },
  "toc": {
   "base_numbering": 1,
   "nav_menu": {},
   "number_sections": true,
   "sideBar": true,
   "skip_h1_title": false,
   "title_cell": "Table of Contents",
   "title_sidebar": "Contents",
   "toc_cell": false,
   "toc_position": {},
   "toc_section_display": true,
   "toc_window_display": false
  }
 },
 "nbformat": 4,
 "nbformat_minor": 5
}
